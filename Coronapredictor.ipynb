{
  "nbformat": 4,
  "nbformat_minor": 0,
  "metadata": {
    "colab": {
      "name": "Coronapredictor.ipynb",
      "provenance": [],
      "collapsed_sections": [],
      "authorship_tag": "ABX9TyO8LBEu8l3B8bG63qniBpNV",
      "include_colab_link": true
    },
    "kernelspec": {
      "name": "python3",
      "display_name": "Python 3"
    }
  },
  "cells": [
    {
      "cell_type": "markdown",
      "metadata": {
        "id": "view-in-github",
        "colab_type": "text"
      },
      "source": [
        "<a href=\"https://colab.research.google.com/github/kishanAd/pythonbasics/blob/master/Coronapredictor.ipynb\" target=\"_parent\"><img src=\"https://colab.research.google.com/assets/colab-badge.svg\" alt=\"Open In Colab\"/></a>"
      ]
    },
    {
      "cell_type": "code",
      "metadata": {
        "id": "ScEW8yXVSKvs"
      },
      "source": [
        "import numpy as np\n",
        "import math\n",
        "import pandas as pd\n",
        "import matplotlib.pyplot as plt\n",
        "from sklearn.preprocessing import PolynomialFeatures\n",
        "from sklearn.linear_model import LinearRegression"
      ],
      "execution_count": null,
      "outputs": []
    },
    {
      "cell_type": "code",
      "metadata": {
        "id": "bbMSi4KSnyoV",
        "colab": {
          "base_uri": "https://localhost:8080/",
          "height": 34
        },
        "outputId": "db202a6c-7000-421d-c037-4219543ca468"
      },
      "source": [
        "from google.colab import drive\n",
        "drive.mount(\"/content/drive\")"
      ],
      "execution_count": null,
      "outputs": [
        {
          "output_type": "stream",
          "text": [
            "Mounted at /content/drive\n"
          ],
          "name": "stdout"
        }
      ]
    },
    {
      "cell_type": "code",
      "metadata": {
        "id": "V1tKTsnYo45C",
        "colab": {
          "base_uri": "https://localhost:8080/",
          "height": 34
        },
        "outputId": "acc6cc9d-eda4-4eff-853f-b7612102f00e"
      },
      "source": [
        "!ls \"/content/drive/My Drive/data\""
      ],
      "execution_count": null,
      "outputs": [
        {
          "output_type": "stream",
          "text": [
            "mark.csv  owid-covid-data.csv\n"
          ],
          "name": "stdout"
        }
      ]
    },
    {
      "cell_type": "code",
      "metadata": {
        "id": "Llhv9onIpLSN",
        "colab": {
          "base_uri": "https://localhost:8080/",
          "height": 582
        },
        "outputId": "6178d94b-dc31-4fd5-d2d4-b51009a5930d"
      },
      "source": [
        "covid_data=pd.read_csv(\"/content/drive/My Drive/data/owid-covid-data.csv\")\n",
        "covid_data=covid_data[[\"date\",\"total_cases\",\"location\"]]\n",
        "# print(\"-\"*30);print(\"HEAD\");print(\"-\"*30)\n",
        "# covid_data.info()\n",
        "Brazil=covid_data[covid_data[\"location\"]==\"Brazil\"]\n",
        "\n",
        "\n",
        "Brazil[\"id\"]=np.arange(1,238)\n",
        "# Nepal.head()\n",
        "x=np.array(Brazil[\"id\"]).reshape(-1,1)\n",
        "\n",
        "# print(x)\n",
        "\n",
        "print(\"-\"*30);print(\"Trainingdata\");print(\"-\"*30)\n",
        "\n",
        "\n",
        "\n",
        "Brazil.head()\n",
        "x=np.array(Brazil[\"id\"]).reshape(-1,1)\n",
        "y=np.array(Brazil[\"total_cases\"]).reshape(-1,1)\n",
        "\n",
        "\n",
        "# #plot\n",
        "plt.plot(y,\"-m\")\n",
        "\n",
        "\n",
        "\n",
        "polyfeat=PolynomialFeatures(degree=4)\n",
        "x=polyfeat.fit_transform(x)\n",
        "# print(x)\n",
        "\n",
        "#training data\n",
        "print(\"-\"*30);print(\"Trainingdata\");print(\"-\"*30)\n",
        "\n",
        "model=LinearRegression().fit(x,y)\n",
        "accuracy=model.score(x,y)\n",
        "print(f'Accuracy:{round(accuracy*100,3)} %' )\n",
        "\n",
        "\n",
        "\n",
        "y0=model.predict(x)\n",
        "plt.plot(y0,\"--b\")\n",
        "\n",
        "#prediction after days\n",
        "days=int(input())\n",
        "print(\"-\"*30);print(\"Predicton\");print(\"-\"*30)\n",
        "print(f\"Prediction after {days} days is \",end=\"\")\n",
        "print(int(model.predict(polyfeat.transform([[237+days]]))))\n",
        "\n"
      ],
      "execution_count": null,
      "outputs": [
        {
          "output_type": "stream",
          "text": [
            "/usr/local/lib/python3.6/dist-packages/ipykernel_launcher.py:8: SettingWithCopyWarning: \n",
            "A value is trying to be set on a copy of a slice from a DataFrame.\n",
            "Try using .loc[row_indexer,col_indexer] = value instead\n",
            "\n",
            "See the caveats in the documentation: https://pandas.pydata.org/pandas-docs/stable/user_guide/indexing.html#returning-a-view-versus-a-copy\n",
            "  \n"
          ],
          "name": "stderr"
        },
        {
          "output_type": "stream",
          "text": [
            "------------------------------\n",
            "Trainingdata\n",
            "------------------------------\n",
            "------------------------------\n",
            "Trainingdata\n",
            "------------------------------\n",
            "Accuracy:99.834 %\n",
            "25\n",
            "------------------------------\n",
            "Predicton\n",
            "------------------------------\n",
            "Prediction after 25 days is 5055554\n"
          ],
          "name": "stdout"
        },
        {
          "output_type": "display_data",
          "data": {
            "image/png": "[encoded data removed]",
            "text/plain": [
              "<Figure size 432x288 with 1 Axes>"
            ]
          },
          "metadata": {
            "tags": [],
            "needs_background": "light"
          }
        }
      ]
    },
    {
      "cell_type": "code",
      "metadata": {
        "id": "QOjq6USN1CRQ",
        "colab": {
          "base_uri": "https://localhost:8080/",
          "height": 505
        },
        "outputId": "704024a3-3ce2-42ce-f87f-4d7954937a2e"
      },
      "source": [
        "Nepal=covid_data[covid_data[\"location\"]==\"Nepal\"]\n",
        "Nepal=Nepal[Nepal[\"total_cases\"].notna()]\n",
        "\n",
        "Nepal.info()\n",
        "Nepal[\"id\"]=np.arange(1,225)\n",
        "x1=np.array(Nepal[\"id\"]).reshape(-1,1)\n",
        "y1=np.array(Nepal[\"total_cases\"]).reshape(-1,1)\n",
        "\n",
        "\n",
        "plt.plot(y1,\"r-\")\n",
        "\n",
        "\n",
        "polyfeature=PolynomialFeatures(degree=6)\n",
        "x1=polyfeature.fit_transform(x1)\n",
        "\n",
        "model1=LinearRegression().fit(x1,y1)\n",
        "accuracy1=model1.score(x1,y1)\n",
        "print(f'Accuracy : {round(accuracy1*100,3)}%' )\n",
        "y0=model1.predict(x1)\n",
        "plt.plot(y0,\"--m\")\n",
        "\n",
        "\n",
        "#prediction\n",
        "days=int(input())\n",
        "print(f'prediction after {days} days is ',end=\"\")\n",
        "print(int(model1.predict(polyfeature.transform([[224+days]]))))\n",
        "\n",
        "\n",
        "#plotting data after days\n",
        "x2=np.array(list(range(1,224+days))).reshape(-1,1)\n",
        "y2=model1.predict(polyfeature.fit_transform(x2))\n",
        "plt.plot(y2,\"--g\")\n",
        "\n",
        "\n",
        "\n",
        "\n",
        "# plt.plot(Nepal[\"date\"],Nepal[\"total_cases\"])"
      ],
      "execution_count": null,
      "outputs": [
        {
          "output_type": "stream",
          "text": [
            "<class 'pandas.core.frame.DataFrame'>\n",
            "Int64Index: 224 entries, 24750 to 24986\n",
            "Data columns (total 3 columns):\n",
            " #   Column       Non-Null Count  Dtype  \n",
            "---  ------       --------------  -----  \n",
            " 0   date         224 non-null    object \n",
            " 1   total_cases  224 non-null    float64\n",
            " 2   location     224 non-null    object \n",
            "dtypes: float64(1), object(2)\n",
            "memory usage: 7.0+ KB\n",
            "Accuracy : 98.705%\n",
            "47\n",
            "prediction after 47 days is 99879\n"
          ],
          "name": "stdout"
        },
        {
          "output_type": "execute_result",
          "data": {
            "text/plain": [
              "[<matplotlib.lines.Line2D at 0x7fc22baac438>]"
            ]
          },
          "metadata": {
            "tags": []
          },
          "execution_count": 23
        },
        {
          "output_type": "display_data",
          "data": {
            "image/png": "[encoded data removed]",
            "text/plain": [
              "<Figure size 432x288 with 1 Axes>"
            ]
          },
          "metadata": {
            "tags": [],
            "needs_background": "light"
          }
        }
      ]
    },
    {
      "cell_type": "code",
      "metadata": {
        "id": "1uZlndRr7k8E"
      },
      "source": [
        ""
      ],
      "execution_count": null,
      "outputs": []
    }
  ]
}